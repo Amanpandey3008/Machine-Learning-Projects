{
  "nbformat": 4,
  "nbformat_minor": 0,
  "metadata": {
    "colab": {
      "provenance": []
    },
    "kernelspec": {
      "name": "python3",
      "display_name": "Python 3"
    },
    "language_info": {
      "name": "python"
    }
  },
  "cells": [
    {
      "cell_type": "code",
      "execution_count": null,
      "metadata": {
        "id": "1B4PIXz_Ayue"
      },
      "outputs": [],
      "source": [
        "import pandas as pd\n",
        "import numpy as np\n",
        "import matplotlib.pyplot as plt\n",
        "from sklearn.linear_model import LogisticRegression\n",
        "from sklearn import metrics\n",
        "from sklearn.model_selection import train_test_split\n",
        "from sklearn.metrics import accuracy_score\n",
        "from sklearn.metrics import confusion_matrix\n",
        "from sklearn.metrics import precision_score,recall_score,f1_score\n",
        "from imblearn.metrics import geometric_mean_score\n",
        "from sklearn.metrics import roc_auc_score\n",
        "from sklearn.metrics import roc_curve\n",
        "from sklearn.metrics import auc"
      ]
    },
    {
      "cell_type": "code",
      "source": [
        "def lrs(x,y):\n",
        "    x_train, x_test , y_train , y_test = train_test_split(x,y,test_size = 0.3)\n",
        "    model = LogisticRegression()\n",
        "    model.fit(x_train,y_train)\n",
        "    y_pred = model.predict(x_test)\n",
        "    print(\"Accuracy Score: \"+ str(accuracy_score(y_pred,y_test)))\n",
        "    print(confusion_matrix(y_true=y_test,y_pred=y_pred))\n",
        "    print(\"Precision score:\" , precision_score(y_pred, y_test))\n",
        "    print('Recall score:' ,recall_score(y_pred, y_test))\n",
        "    print('G-mean score:',geometric_mean_score(y_pred, y_test))\n",
        "    print('Fl score:', f1_score(y_pred, y_test))\n",
        "    logit_roc_auc=roc_auc_score(y_test, y_pred)\n",
        "    fpr, tpr, thresholds =roc_curve(y_test, model.predict_proba(x_test)[ :,1])\n",
        "    plt.figure()\n",
        "    plt.plot(fpr, tpr, label=\"AUC= %0.2f\" % auc(fpr, tpr))\n",
        "    plt.plot ([0, 1], [0, 1],'r--')\n",
        "    plt.xlim([0.0, 1.0])\n",
        "    plt.ylim([0.0, 1.05])\n",
        "    plt.xlabel(\"False Positive Rate\")\n",
        "    plt.ylabel(\"True Positive Rate\")\n",
        "    plt.title(\"Receiver Operating Characteristic (ROC)\")\n",
        "    plt.legend(loc=\"lower right\")\n",
        "    plt.show()"
      ],
      "metadata": {
        "id": "1w8gS0bC0vQb"
      },
      "execution_count": null,
      "outputs": []
    },
    {
      "cell_type": "code",
      "source": [
        "train = pd.read_csv(\"train.csv\")\n",
        "train = train.dropna(axis=0)\n",
        "x = train.drop(['target'], axis =1).select_dtypes(exclude = ['object'])\n",
        "y = train.target"
      ],
      "metadata": {
        "id": "CHuIx3ZW03UB"
      },
      "execution_count": null,
      "outputs": []
    },
    {
      "cell_type": "markdown",
      "source": [
        "Without Sampling"
      ],
      "metadata": {
        "id": "C07A4lmfQA3v"
      }
    },
    {
      "cell_type": "code",
      "source": [
        "lrs(x,y)"
      ],
      "metadata": {
        "id": "UWz197rw7j7c"
      },
      "execution_count": null,
      "outputs": []
    },
    {
      "cell_type": "markdown",
      "source": [
        "Random Under Sampling"
      ],
      "metadata": {
        "id": "1q0ZnAeTQWfP"
      }
    },
    {
      "cell_type": "code",
      "source": [
        "from imblearn.under_sampling import RandomUnderSampler\n",
        "from collections import Counter\n",
        "rus = RandomUnderSampler(random_state = 0)\n",
        "x_resampled_rus, y_resampled_rus = rus.fit_resample(x,y)\n",
        "print(sorted(Counter(y_resampled_rus).items()))"
      ],
      "metadata": {
        "id": "4SxXsNe6QRO9"
      },
      "execution_count": null,
      "outputs": []
    },
    {
      "cell_type": "code",
      "source": [
        "lrs(x_resampled_rus,y_resampled_rus)"
      ],
      "metadata": {
        "id": "r7bALj6qQRKc"
      },
      "execution_count": null,
      "outputs": []
    },
    {
      "cell_type": "markdown",
      "source": [
        "Tomek Link"
      ],
      "metadata": {
        "id": "HeTZ2NW9R0rY"
      }
    },
    {
      "cell_type": "code",
      "source": [
        "from imblearn.under_sampling import TomekLinks\n",
        "tl=TomekLinks(sampling_strategy= \"majority\")\n",
        "x_resanpled_tl, y_resampled_tl = tl.fit_resample(x, y)\n",
        "print(sorted(Counter(y_resampled_tl).items()))"
      ],
      "metadata": {
        "id": "S2b4raiyQRDv"
      },
      "execution_count": null,
      "outputs": []
    },
    {
      "cell_type": "code",
      "source": [
        "lrs(x_resanpled_tl,y_resampled_tl)"
      ],
      "metadata": {
        "id": "gQoDVVXQQRAv"
      },
      "execution_count": null,
      "outputs": []
    },
    {
      "cell_type": "markdown",
      "source": [
        "Edited Nearest Neighbors (ENN)"
      ],
      "metadata": {
        "id": "p7OTY-03SPAM"
      }
    },
    {
      "cell_type": "code",
      "source": [
        "from imblearn.under_sampling import EditedNearestNeighbours\n",
        "enn = EditedNearestNeighbours(sampling_strategy='majority')\n",
        "x_resampled_enn, y_resampled_enn = enn.fit_resample(x,y)\n",
        "print(sorted(Counter(y_resampled_enn).items()))"
      ],
      "metadata": {
        "id": "fH2UEKo9SRHj"
      },
      "execution_count": null,
      "outputs": []
    },
    {
      "cell_type": "code",
      "source": [
        "lrs(x_resampled_enn,y_resampled_enn)"
      ],
      "metadata": {
        "id": "hRYQxDwgSUMM"
      },
      "execution_count": null,
      "outputs": []
    },
    {
      "cell_type": "markdown",
      "source": [
        "Random Oversampling"
      ],
      "metadata": {
        "id": "cCKmphdMSYuV"
      }
    },
    {
      "cell_type": "code",
      "source": [
        "from imblearn.over_sampling import RandomOverSampler\n",
        "ros=RandomOverSampler(random_state=0)\n",
        "X_resampled_ros, y_resampled_ros = ros.fit_resample (x, y)\n",
        "len (X_resampled_ros)"
      ],
      "metadata": {
        "id": "B5iUrCeMSapN"
      },
      "execution_count": null,
      "outputs": []
    },
    {
      "cell_type": "code",
      "source": [
        "lrs(X_resampled_ros,y_resampled_ros)"
      ],
      "metadata": {
        "id": "ZJvm5wI8SdYt"
      },
      "execution_count": null,
      "outputs": []
    },
    {
      "cell_type": "markdown",
      "source": [
        "Synthetic Minority Oversampling Technique (SMOTE)"
      ],
      "metadata": {
        "id": "p1n-O_BqSfR8"
      }
    },
    {
      "cell_type": "code",
      "source": [
        "from imblearn.over_sampling import SMOTE\n",
        "sm=SMOTE(random_state=42,k_neighbors=5)\n",
        "X_resampled_sm, y_resampled_sm = sm.fit_resample (x, y)\n",
        "len (X_resampled_sm)\n",
        "print(sorted(Counter(y_resampled_sm).items()))"
      ],
      "metadata": {
        "id": "LlubD6WkShfU"
      },
      "execution_count": null,
      "outputs": []
    },
    {
      "cell_type": "code",
      "source": [
        "lrs(X_resampled_sm,y_resampled_sm)"
      ],
      "metadata": {
        "id": "7iPmyEDASjcM"
      },
      "execution_count": null,
      "outputs": []
    },
    {
      "cell_type": "markdown",
      "source": [
        "Adaptive Synthetic Sampling (ADASYN)"
      ],
      "metadata": {
        "id": "iRWCjJJDSt1E"
      }
    },
    {
      "cell_type": "code",
      "source": [
        "from imblearn.over_sampling import ADASYN\n",
        "ad=ADASYN(random_state=42,n_neighbors=5)\n",
        "X_resampled_ad, y_resampled_ad=ad.fit_resample(x, y)\n",
        "len (X_resampled_ad)\n",
        "print(sorted(Counter(y_resampled_ad).items()))"
      ],
      "metadata": {
        "id": "_9c09SaqS1kz"
      },
      "execution_count": null,
      "outputs": []
    },
    {
      "cell_type": "code",
      "source": [
        "lrs(X_resampled_ad,y_resampled_ad)"
      ],
      "metadata": {
        "id": "2j9MCDTsS3-8"
      },
      "execution_count": null,
      "outputs": []
    },
    {
      "cell_type": "markdown",
      "source": [
        "Hybrid 1"
      ],
      "metadata": {
        "id": "eE5bAGJ5S3fc"
      }
    },
    {
      "cell_type": "code",
      "source": [
        "from imblearn.combine import SMOTEENN\n",
        "smote_enn = SMOTEENN(random_state=0)\n",
        "x_resampled_smen, y_resampled_smen = smote_enn.fit_resample(x, y)\n",
        "print(sorted(Counter(y_resampled_smen).items()))"
      ],
      "metadata": {
        "id": "fLWUnkYmS8e0"
      },
      "execution_count": null,
      "outputs": []
    },
    {
      "cell_type": "code",
      "source": [
        "lrs(x_resampled_smen, y_resampled_smen)"
      ],
      "metadata": {
        "id": "0u4QtmKuS_P0"
      },
      "execution_count": null,
      "outputs": []
    },
    {
      "cell_type": "markdown",
      "source": [
        "Hybrid 2"
      ],
      "metadata": {
        "id": "M1GL9LzjTD17"
      }
    },
    {
      "cell_type": "code",
      "source": [
        "from imblearn.combine import SMOTETomek\n",
        "smote_tomek = SMOTETomek(random_state=0)\n",
        "x_resampled_smtm, y_resampled_smtm = smote_tomek.fit_resample(x, y)\n",
        "print(sorted(Counter(y_resampled_smtm).items()))"
      ],
      "metadata": {
        "id": "x6MJ590NTB97"
      },
      "execution_count": null,
      "outputs": []
    },
    {
      "cell_type": "code",
      "source": [
        "lrs(x_resampled_smtm, y_resampled_smtm)"
      ],
      "metadata": {
        "id": "xTCQGRrCTIRs"
      },
      "execution_count": null,
      "outputs": []
    },
    {
      "cell_type": "code",
      "source": [],
      "metadata": {
        "id": "flK4M8EsWLKt"
      },
      "execution_count": null,
      "outputs": []
    }
  ]
}